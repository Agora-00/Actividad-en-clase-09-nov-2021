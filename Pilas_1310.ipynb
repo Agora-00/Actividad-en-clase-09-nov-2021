{
  "nbformat": 4,
  "nbformat_minor": 0,
  "metadata": {
    "colab": {
      "name": "Pilas_1310.ipynb",
      "provenance": []
    },
    "kernelspec": {
      "name": "python3",
      "display_name": "Python 3"
    },
    "language_info": {
      "name": "python"
    }
  },
  "cells": [
    {
      "cell_type": "code",
      "metadata": {
        "id": "l03VbOrbARGZ"
      },
      "source": [
        "class StackADT:\n",
        "    def __init__( self ):\n",
        "        self.__data = list()\n",
        "  # regresa true y la lista vacuia\n",
        "    def is_empty( self ):\n",
        "        return len( self.__data ) == 0\n",
        "\n",
        "    def get_length( self ):\n",
        "        return len(self.__data)\n",
        "\n",
        "    def pop(self ):\n",
        "        if self.is_empty():\n",
        "            print(\"pila vacia, nada que sacar\")\n",
        "        else:\n",
        "            return self.__data.pop()\n",
        "\n",
        "    def peek( self ):\n",
        "        if self.is_empty():\n",
        "            print(\"pila vacia, nada que sacar\")\n",
        "        else:\n",
        "            return self.__data[ -1 ]\n",
        "\n",
        "    def push(self , value ):\n",
        "        self.__data.append(value)\n",
        "\n",
        "    def to_string(self):\n",
        "        for item in self.__data[::-1]:\n",
        "            print(f\"| { item } | \")\n",
        "\n",
        "    \n"
      ],
      "execution_count": 8,
      "outputs": []
    },
    {
      "cell_type": "code",
      "metadata": {
        "colab": {
          "base_uri": "https://localhost:8080/"
        },
        "id": "lgUAGJRtQMEt",
        "outputId": "02a69f06-10bf-4177-efee-59e0c75cdd00"
      },
      "source": [
        "pila = StackADT()\n",
        "print(\"esta vacia\" , pila.is_empty())\n",
        "print(\"elementos \" , pila.get_length())\n",
        "pila.push(10)\n",
        "print(\"esta vacia\" , pila.is_empty())\n",
        "print(\"elementos \" , pila.get_length())\n",
        "pila.push(20)\n",
        "pila.push(30)\n",
        "pila.push(40)\n",
        "pila.to_string()\n",
        "print(pila.pop()) # 40\n",
        "print(pila.peek()) # 30\n",
        "pila.to_string()\n",
        "\n"
      ],
      "execution_count": 9,
      "outputs": [
        {
          "output_type": "stream",
          "name": "stdout",
          "text": [
            "esta vacia True\n",
            "elementos  0\n",
            "esta vacia False\n",
            "elementos  1\n",
            "| 40 | \n",
            "| 30 | \n",
            "| 20 | \n",
            "| 10 | \n",
            "40\n",
            "30\n",
            "| 30 | \n",
            "| 20 | \n",
            "| 10 | \n"
          ]
        }
      ]
    },
    {
      "cell_type": "markdown",
      "metadata": {
        "id": "9YUv8Vx8yiRx"
      },
      "source": [
        "# Aplicacion de pilas, balanceo de llaves en programación\n",
        "\n"
      ]
    },
    {
      "cell_type": "code",
      "metadata": {
        "colab": {
          "base_uri": "https://localhost:8080/"
        },
        "id": "sG4U27_wyhLQ",
        "outputId": "84c7c182-87e0-4365-e3d6-ded90f4cea8a"
      },
      "source": [
        "!cat prog.txt"
      ],
      "execution_count": 5,
      "outputs": [
        {
          "output_type": "stream",
          "name": "stdout",
          "text": [
            "#include <stdio.h>\r\n",
            "int main()\r\n",
            "{\r\n",
            "    int num, count, sum = 0;\r\n",
            "\r\n",
            "    printf(\"Enter a positive integer: \");\r\n",
            "    scanf(\"%d\", &num);\r\n",
            "\r\n",
            "    // for loop terminates when num is less than count\r\n",
            "    for(count = 1; count <= num; ++count)\r\n",
            "    {\r\n",
            "        sum += count;\r\n",
            "    }\r\n",
            "\r\n",
            "    printf(\"Sum = %d\", sum);\r\n",
            "\r\n",
            "    return 0;\r\n",
            "}"
          ]
        }
      ]
    },
    {
      "cell_type": "code",
      "metadata": {
        "colab": {
          "base_uri": "https://localhost:8080/"
        },
        "id": "x9ihE60KzwPF",
        "outputId": "a7ffd2fa-210e-451c-cfbc-4b1e5edfa886"
      },
      "source": [
        "entrada = open('prog.txt', 'rt')\n",
        "codigo = entrada.read()\n",
        "#print(codigo)\n",
        "pilaControl = StackADT()\n",
        "pilaControl.push(\"#\") # caracter de pila vacia\n",
        "# recorrer desde el 1er elemento hasta el ultimo\n",
        "\n",
        "for letra in codigo:\n",
        "   #print(f\"---> {letra} <---\")\n",
        "    if letra == '{': # relga 1\n",
        "       pilaControl.push(\"{\") \n",
        "    elif letra == \"}\": # regla 2\n",
        "        basura = pilaControl.pop()\n",
        "    else:\n",
        "        pass\n",
        "# NOTA: Este codigo aun no contempla desbalanceo, desbalanceo de mas llaves de cierre\n",
        "if pilaControl.peek() == '#':\n",
        "    print(\"El codigo proporcionado esta correctamente balanceado\")\n",
        "else:\n",
        "    print(\"El codigo no esta balanceado en llaves { y }\")\n",
        "\n"
      ],
      "execution_count": 19,
      "outputs": [
        {
          "output_type": "stream",
          "name": "stdout",
          "text": [
            "pila vacia, nada que sacar\n",
            "pila vacia, nada que sacar\n",
            "pila vacia, nada que sacar\n",
            "pila vacia, nada que sacar\n",
            "pila vacia, nada que sacar\n",
            "pila vacia, nada que sacar\n",
            "pila vacia, nada que sacar\n",
            "pila vacia, nada que sacar\n",
            "El codigo no esta balanceado en llaves { y }\n"
          ]
        }
      ]
    },
    {
      "cell_type": "markdown",
      "metadata": {
        "id": "2NHlYP3P7JJs"
      },
      "source": [
        "# Aplicacion de Pilas.\n",
        "## estrategia de diseño de BACKTRAKING\n"
      ]
    },
    {
      "cell_type": "code",
      "metadata": {
        "id": "oC50EoHo7VpK"
      },
      "source": [
        ""
      ],
      "execution_count": null,
      "outputs": []
    }
  ]
}